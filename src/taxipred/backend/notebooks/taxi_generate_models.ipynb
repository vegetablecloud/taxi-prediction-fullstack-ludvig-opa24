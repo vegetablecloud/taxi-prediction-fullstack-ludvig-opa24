{
 "cells": [
  {
   "cell_type": "code",
   "execution_count": null,
   "id": "bf0c50e0",
   "metadata": {},
   "outputs": [],
   "source": []
  },
  {
   "cell_type": "markdown",
   "id": "7d19b592",
   "metadata": {},
   "source": [
    "### 1 Import library and load data"
   ]
  },
  {
   "cell_type": "code",
   "execution_count": 646,
   "id": "e2abe1bd",
   "metadata": {},
   "outputs": [
    {
     "data": {
      "text/html": [
       "<div>\n",
       "<style scoped>\n",
       "    .dataframe tbody tr th:only-of-type {\n",
       "        vertical-align: middle;\n",
       "    }\n",
       "\n",
       "    .dataframe tbody tr th {\n",
       "        vertical-align: top;\n",
       "    }\n",
       "\n",
       "    .dataframe thead th {\n",
       "        text-align: right;\n",
       "    }\n",
       "</style>\n",
       "<table border=\"1\" class=\"dataframe\">\n",
       "  <thead>\n",
       "    <tr style=\"text-align: right;\">\n",
       "      <th></th>\n",
       "      <th>Trip_Distance_km</th>\n",
       "      <th>Passenger_Count</th>\n",
       "      <th>Base_Fare</th>\n",
       "      <th>Per_Km_Rate</th>\n",
       "      <th>Per_Minute_Rate</th>\n",
       "      <th>Trip_Duration_Minutes</th>\n",
       "      <th>Trip_Price</th>\n",
       "      <th>Time_of_Day_Evening</th>\n",
       "      <th>Time_of_Day_Morning</th>\n",
       "      <th>Time_of_Day_Night</th>\n",
       "      <th>Day_of_Week_Weekend</th>\n",
       "      <th>Traffic_Conditions_Low</th>\n",
       "      <th>Traffic_Conditions_Medium</th>\n",
       "      <th>Weather_Rain</th>\n",
       "      <th>Weather_Snow</th>\n",
       "    </tr>\n",
       "  </thead>\n",
       "  <tbody>\n",
       "    <tr>\n",
       "      <th>0</th>\n",
       "      <td>19.35</td>\n",
       "      <td>3.0</td>\n",
       "      <td>3.5600</td>\n",
       "      <td>0.80</td>\n",
       "      <td>0.32</td>\n",
       "      <td>53.82</td>\n",
       "      <td>36.262400</td>\n",
       "      <td>False</td>\n",
       "      <td>True</td>\n",
       "      <td>False</td>\n",
       "      <td>False</td>\n",
       "      <td>True</td>\n",
       "      <td>False</td>\n",
       "      <td>False</td>\n",
       "      <td>False</td>\n",
       "    </tr>\n",
       "    <tr>\n",
       "      <th>1</th>\n",
       "      <td>47.59</td>\n",
       "      <td>1.0</td>\n",
       "      <td>3.5096</td>\n",
       "      <td>0.62</td>\n",
       "      <td>0.43</td>\n",
       "      <td>40.57</td>\n",
       "      <td>47.070264</td>\n",
       "      <td>False</td>\n",
       "      <td>False</td>\n",
       "      <td>False</td>\n",
       "      <td>False</td>\n",
       "      <td>False</td>\n",
       "      <td>False</td>\n",
       "      <td>False</td>\n",
       "      <td>False</td>\n",
       "    </tr>\n",
       "    <tr>\n",
       "      <th>2</th>\n",
       "      <td>36.87</td>\n",
       "      <td>1.0</td>\n",
       "      <td>2.7000</td>\n",
       "      <td>1.21</td>\n",
       "      <td>0.15</td>\n",
       "      <td>37.27</td>\n",
       "      <td>52.903200</td>\n",
       "      <td>True</td>\n",
       "      <td>False</td>\n",
       "      <td>False</td>\n",
       "      <td>True</td>\n",
       "      <td>False</td>\n",
       "      <td>False</td>\n",
       "      <td>False</td>\n",
       "      <td>False</td>\n",
       "    </tr>\n",
       "    <tr>\n",
       "      <th>3</th>\n",
       "      <td>30.33</td>\n",
       "      <td>4.0</td>\n",
       "      <td>3.4800</td>\n",
       "      <td>0.51</td>\n",
       "      <td>0.15</td>\n",
       "      <td>116.81</td>\n",
       "      <td>36.469800</td>\n",
       "      <td>True</td>\n",
       "      <td>False</td>\n",
       "      <td>False</td>\n",
       "      <td>False</td>\n",
       "      <td>True</td>\n",
       "      <td>False</td>\n",
       "      <td>False</td>\n",
       "      <td>False</td>\n",
       "    </tr>\n",
       "    <tr>\n",
       "      <th>4</th>\n",
       "      <td>8.64</td>\n",
       "      <td>3.0</td>\n",
       "      <td>2.9300</td>\n",
       "      <td>0.63</td>\n",
       "      <td>0.32</td>\n",
       "      <td>22.64</td>\n",
       "      <td>15.618000</td>\n",
       "      <td>True</td>\n",
       "      <td>False</td>\n",
       "      <td>False</td>\n",
       "      <td>False</td>\n",
       "      <td>False</td>\n",
       "      <td>False</td>\n",
       "      <td>False</td>\n",
       "      <td>False</td>\n",
       "    </tr>\n",
       "  </tbody>\n",
       "</table>\n",
       "</div>"
      ],
      "text/plain": [
       "   Trip_Distance_km  Passenger_Count  Base_Fare  Per_Km_Rate  Per_Minute_Rate  \\\n",
       "0             19.35              3.0     3.5600         0.80             0.32   \n",
       "1             47.59              1.0     3.5096         0.62             0.43   \n",
       "2             36.87              1.0     2.7000         1.21             0.15   \n",
       "3             30.33              4.0     3.4800         0.51             0.15   \n",
       "4              8.64              3.0     2.9300         0.63             0.32   \n",
       "\n",
       "   Trip_Duration_Minutes  Trip_Price  Time_of_Day_Evening  \\\n",
       "0                  53.82   36.262400                False   \n",
       "1                  40.57   47.070264                False   \n",
       "2                  37.27   52.903200                 True   \n",
       "3                 116.81   36.469800                 True   \n",
       "4                  22.64   15.618000                 True   \n",
       "\n",
       "   Time_of_Day_Morning  Time_of_Day_Night  Day_of_Week_Weekend  \\\n",
       "0                 True              False                False   \n",
       "1                False              False                False   \n",
       "2                False              False                 True   \n",
       "3                False              False                False   \n",
       "4                False              False                False   \n",
       "\n",
       "   Traffic_Conditions_Low  Traffic_Conditions_Medium  Weather_Rain  \\\n",
       "0                    True                      False         False   \n",
       "1                   False                      False         False   \n",
       "2                   False                      False         False   \n",
       "3                    True                      False         False   \n",
       "4                   False                      False         False   \n",
       "\n",
       "   Weather_Snow  \n",
       "0         False  \n",
       "1         False  \n",
       "2         False  \n",
       "3         False  \n",
       "4         False  "
      ]
     },
     "metadata": {},
     "output_type": "display_data"
    },
    {
     "name": "stdout",
     "output_type": "stream",
     "text": [
      "<class 'pandas.core.frame.DataFrame'>\n",
      "RangeIndex: 1000 entries, 0 to 999\n",
      "Data columns (total 15 columns):\n",
      " #   Column                     Non-Null Count  Dtype  \n",
      "---  ------                     --------------  -----  \n",
      " 0   Trip_Distance_km           1000 non-null   float64\n",
      " 1   Passenger_Count            1000 non-null   float64\n",
      " 2   Base_Fare                  1000 non-null   float64\n",
      " 3   Per_Km_Rate                1000 non-null   float64\n",
      " 4   Per_Minute_Rate            1000 non-null   float64\n",
      " 5   Trip_Duration_Minutes      1000 non-null   float64\n",
      " 6   Trip_Price                 1000 non-null   float64\n",
      " 7   Time_of_Day_Evening        1000 non-null   bool   \n",
      " 8   Time_of_Day_Morning        1000 non-null   bool   \n",
      " 9   Time_of_Day_Night          1000 non-null   bool   \n",
      " 10  Day_of_Week_Weekend        1000 non-null   bool   \n",
      " 11  Traffic_Conditions_Low     1000 non-null   bool   \n",
      " 12  Traffic_Conditions_Medium  1000 non-null   bool   \n",
      " 13  Weather_Rain               1000 non-null   bool   \n",
      " 14  Weather_Snow               1000 non-null   bool   \n",
      "dtypes: bool(8), float64(7)\n",
      "memory usage: 62.6 KB\n"
     ]
    }
   ],
   "source": [
    "import pandas as pd\n",
    "import seaborn as sns\n",
    "\n",
    "df = pd.read_csv(\"../../data/taxi_trip_pricing_imputed.csv\")\n",
    "\n",
    "display(df.head())\n",
    "df.info()"
   ]
  },
  {
   "cell_type": "markdown",
   "id": "7bdeaefe",
   "metadata": {},
   "source": [
    "### 1.5 Feeature engineering"
   ]
  },
  {
   "cell_type": "code",
   "execution_count": null,
   "id": "5c406c61",
   "metadata": {},
   "outputs": [],
   "source": []
  },
  {
   "cell_type": "markdown",
   "id": "73cb8097",
   "metadata": {},
   "source": [
    "### 2 Divide the data in features and target. And into Train and tests."
   ]
  },
  {
   "cell_type": "code",
   "execution_count": 647,
   "id": "c002ac6f",
   "metadata": {},
   "outputs": [
    {
     "data": {
      "text/plain": [
       "(800, 8)"
      ]
     },
     "metadata": {},
     "output_type": "display_data"
    },
    {
     "data": {
      "text/plain": [
       "(200, 8)"
      ]
     },
     "metadata": {},
     "output_type": "display_data"
    },
    {
     "data": {
      "text/plain": [
       "(800,)"
      ]
     },
     "metadata": {},
     "output_type": "display_data"
    },
    {
     "data": {
      "text/plain": [
       "(200,)"
      ]
     },
     "metadata": {},
     "output_type": "display_data"
    }
   ],
   "source": [
    "from sklearn.model_selection import train_test_split\n",
    "\n",
    "X,y = df.drop(columns=[\n",
    "    \"Trip_Price\", \"Base_Fare\", \"Per_Km_Rate\",\"Per_Km_Rate\",\"Trip_Duration_Minutes\", \"Traffic_Conditions_Low\", \"Traffic_Conditions_Medium\", \"Per_Minute_Rate\", \n",
    "    ]), df[\"Trip_Price\"]\n",
    "\n",
    "X_train, X_test, y_train, y_test = train_test_split(X, y, test_size=0.2, random_state=42)\n",
    "\n",
    "display(X_train.shape, X_test.shape, y_train.shape, y_test.shape)"
   ]
  },
  {
   "cell_type": "code",
   "execution_count": 648,
   "id": "a7cac525",
   "metadata": {},
   "outputs": [
    {
     "data": {
      "text/html": [
       "<div>\n",
       "<style scoped>\n",
       "    .dataframe tbody tr th:only-of-type {\n",
       "        vertical-align: middle;\n",
       "    }\n",
       "\n",
       "    .dataframe tbody tr th {\n",
       "        vertical-align: top;\n",
       "    }\n",
       "\n",
       "    .dataframe thead th {\n",
       "        text-align: right;\n",
       "    }\n",
       "</style>\n",
       "<table border=\"1\" class=\"dataframe\">\n",
       "  <thead>\n",
       "    <tr style=\"text-align: right;\">\n",
       "      <th></th>\n",
       "      <th>Trip_Distance_km</th>\n",
       "      <th>Passenger_Count</th>\n",
       "      <th>Time_of_Day_Evening</th>\n",
       "      <th>Time_of_Day_Morning</th>\n",
       "      <th>Time_of_Day_Night</th>\n",
       "      <th>Day_of_Week_Weekend</th>\n",
       "      <th>Weather_Rain</th>\n",
       "      <th>Weather_Snow</th>\n",
       "    </tr>\n",
       "  </thead>\n",
       "  <tbody>\n",
       "    <tr>\n",
       "      <th>0</th>\n",
       "      <td>19.35</td>\n",
       "      <td>3.0</td>\n",
       "      <td>False</td>\n",
       "      <td>True</td>\n",
       "      <td>False</td>\n",
       "      <td>False</td>\n",
       "      <td>False</td>\n",
       "      <td>False</td>\n",
       "    </tr>\n",
       "    <tr>\n",
       "      <th>1</th>\n",
       "      <td>47.59</td>\n",
       "      <td>1.0</td>\n",
       "      <td>False</td>\n",
       "      <td>False</td>\n",
       "      <td>False</td>\n",
       "      <td>False</td>\n",
       "      <td>False</td>\n",
       "      <td>False</td>\n",
       "    </tr>\n",
       "    <tr>\n",
       "      <th>2</th>\n",
       "      <td>36.87</td>\n",
       "      <td>1.0</td>\n",
       "      <td>True</td>\n",
       "      <td>False</td>\n",
       "      <td>False</td>\n",
       "      <td>True</td>\n",
       "      <td>False</td>\n",
       "      <td>False</td>\n",
       "    </tr>\n",
       "    <tr>\n",
       "      <th>3</th>\n",
       "      <td>30.33</td>\n",
       "      <td>4.0</td>\n",
       "      <td>True</td>\n",
       "      <td>False</td>\n",
       "      <td>False</td>\n",
       "      <td>False</td>\n",
       "      <td>False</td>\n",
       "      <td>False</td>\n",
       "    </tr>\n",
       "    <tr>\n",
       "      <th>4</th>\n",
       "      <td>8.64</td>\n",
       "      <td>3.0</td>\n",
       "      <td>True</td>\n",
       "      <td>False</td>\n",
       "      <td>False</td>\n",
       "      <td>False</td>\n",
       "      <td>False</td>\n",
       "      <td>False</td>\n",
       "    </tr>\n",
       "  </tbody>\n",
       "</table>\n",
       "</div>"
      ],
      "text/plain": [
       "   Trip_Distance_km  Passenger_Count  Time_of_Day_Evening  \\\n",
       "0             19.35              3.0                False   \n",
       "1             47.59              1.0                False   \n",
       "2             36.87              1.0                 True   \n",
       "3             30.33              4.0                 True   \n",
       "4              8.64              3.0                 True   \n",
       "\n",
       "   Time_of_Day_Morning  Time_of_Day_Night  Day_of_Week_Weekend  Weather_Rain  \\\n",
       "0                 True              False                False         False   \n",
       "1                False              False                False         False   \n",
       "2                False              False                 True         False   \n",
       "3                False              False                False         False   \n",
       "4                False              False                False         False   \n",
       "\n",
       "   Weather_Snow  \n",
       "0         False  \n",
       "1         False  \n",
       "2         False  \n",
       "3         False  \n",
       "4         False  "
      ]
     },
     "metadata": {},
     "output_type": "display_data"
    },
    {
     "data": {
      "text/plain": [
       "0      36.262400\n",
       "1      47.070264\n",
       "2      52.903200\n",
       "3      36.469800\n",
       "4      15.618000\n",
       "         ...    \n",
       "995    34.404900\n",
       "996    62.129500\n",
       "997    33.123600\n",
       "998    61.209000\n",
       "999    45.443700\n",
       "Name: Trip_Price, Length: 1000, dtype: float64"
      ]
     },
     "metadata": {},
     "output_type": "display_data"
    }
   ],
   "source": [
    "display(X.head())\n",
    "display(y)"
   ]
  },
  {
   "cell_type": "markdown",
   "id": "96414eee",
   "metadata": {},
   "source": [
    "### 3 Scale features and train a Linnear Regression model"
   ]
  },
  {
   "cell_type": "code",
   "execution_count": 649,
   "id": "1c723b74",
   "metadata": {},
   "outputs": [
    {
     "name": "stdout",
     "output_type": "stream",
     "text": [
      "Linnear regression performance:\n",
      "Mean Absolute Error (MAE): 15.56\n",
      "Mean Squared Error (MSE): 418.80\n",
      "R-squared (R2): 0.51\n"
     ]
    }
   ],
   "source": [
    "from sklearn.linear_model import LinearRegression\n",
    "from sklearn.preprocessing import MinMaxScaler\n",
    "from sklearn.metrics import mean_absolute_error, mean_squared_error, r2_score\n",
    "\n",
    "\n",
    "scalar = MinMaxScaler()\n",
    "\n",
    "X_train_scaled = scalar.fit_transform(X=X_train)\n",
    "X_test_scaled = scalar.transform(X=X_test)\n",
    "\n",
    "linnear_model = LinearRegression()\n",
    "linnear_model.fit(X=X_train_scaled, y=y_train)\n",
    "\n",
    "linnear_y_pred = linnear_model.predict(X=X_test_scaled)\n",
    "\n",
    "\n",
    "mae_lr = mean_absolute_error(y_true=y_test, y_pred=linnear_y_pred)\n",
    "mse_lr = mean_squared_error(y_true=y_test, y_pred=linnear_y_pred)\n",
    "r2_lr = r2_score(y_true=y_test, y_pred=linnear_y_pred)\n",
    "\n",
    "print(\"Linnear regression performance:\")\n",
    "print(f\"Mean Absolute Error (MAE): {mae_lr:.2f}\")\n",
    "print(f\"Mean Squared Error (MSE): {mse_lr:.2f}\")\n",
    "print(f\"R-squared (R2): {r2_lr:.2f}\")"
   ]
  },
  {
   "cell_type": "markdown",
   "id": "f27c0640",
   "metadata": {},
   "source": [
    "### 4- Train a random forest model"
   ]
  },
  {
   "cell_type": "code",
   "execution_count": 650,
   "id": "0ffd6f05",
   "metadata": {},
   "outputs": [
    {
     "name": "stdout",
     "output_type": "stream",
     "text": [
      "Random forrest regression performance:\n",
      "Mean Absolute Error (MAE): 14.72\n",
      "Mean Squared Error (MSE): 334.28\n",
      "R-squared (R2): 0.61\n"
     ]
    }
   ],
   "source": [
    "from sklearn.ensemble import RandomForestRegressor\n",
    "\n",
    "rf_model = RandomForestRegressor(\n",
    "    random_state=42,\n",
    "    n_estimators=2000,\n",
    "    min_samples_leaf=10,\n",
    "    max_depth=6,\n",
    "    max_leaf_nodes=63,\n",
    ")\n",
    "\n",
    "\n",
    "rf_model.fit(X_train, y_train)\n",
    "\n",
    "rf_y_pred = rf_model.predict(X_test)\n",
    "\n",
    "mae_rf = mean_absolute_error(y_true=y_test, y_pred=rf_y_pred)\n",
    "mse_rf = mean_squared_error(y_true=y_test, y_pred=rf_y_pred)\n",
    "r2_rf = r2_score(y_true=y_test, y_pred=rf_y_pred)\n",
    "\n",
    "print(\"Random forrest regression performance:\")\n",
    "print(f\"Mean Absolute Error (MAE): {mae_rf:.2f}\")\n",
    "print(f\"Mean Squared Error (MSE): {mse_rf:.2f}\")\n",
    "print(f\"R-squared (R2): {r2_rf:.2f}\")"
   ]
  },
  {
   "cell_type": "markdown",
   "id": "e695988f",
   "metadata": {},
   "source": [
    "### Save this broad Unprecise Model to a joblib file as 'broad_responsible_model.joblib'"
   ]
  },
  {
   "cell_type": "code",
   "execution_count": 651,
   "id": "43445fa6",
   "metadata": {},
   "outputs": [
    {
     "data": {
      "text/plain": [
       "['../models/broad_responsible_rf_model.joblib']"
      ]
     },
     "execution_count": 651,
     "metadata": {},
     "output_type": "execute_result"
    }
   ],
   "source": [
    "import joblib\n",
    "# Save Random forest model\n",
    "joblib.dump(rf_model, \"../models/broad_responsible_rf_model.joblib\")"
   ]
  },
  {
   "cell_type": "markdown",
   "id": "b8db6065",
   "metadata": {},
   "source": [
    "### Know we will build a 'narrow_precise_model.joblib' that removes the outlieers"
   ]
  },
  {
   "cell_type": "code",
   "execution_count": 652,
   "id": "3f28b6fc",
   "metadata": {},
   "outputs": [
    {
     "data": {
      "text/html": [
       "<div>\n",
       "<style scoped>\n",
       "    .dataframe tbody tr th:only-of-type {\n",
       "        vertical-align: middle;\n",
       "    }\n",
       "\n",
       "    .dataframe tbody tr th {\n",
       "        vertical-align: top;\n",
       "    }\n",
       "\n",
       "    .dataframe thead th {\n",
       "        text-align: right;\n",
       "    }\n",
       "</style>\n",
       "<table border=\"1\" class=\"dataframe\">\n",
       "  <thead>\n",
       "    <tr style=\"text-align: right;\">\n",
       "      <th></th>\n",
       "      <th>count</th>\n",
       "      <th>mean</th>\n",
       "      <th>std</th>\n",
       "      <th>min</th>\n",
       "      <th>25%</th>\n",
       "      <th>50%</th>\n",
       "      <th>75%</th>\n",
       "      <th>max</th>\n",
       "    </tr>\n",
       "  </thead>\n",
       "  <tbody>\n",
       "    <tr>\n",
       "      <th>Trip_Distance_km</th>\n",
       "      <td>1000.0</td>\n",
       "      <td>26.999056</td>\n",
       "      <td>19.646154</td>\n",
       "      <td>1.2300</td>\n",
       "      <td>12.662500</td>\n",
       "      <td>25.8300</td>\n",
       "      <td>38.330000</td>\n",
       "      <td>146.067047</td>\n",
       "    </tr>\n",
       "    <tr>\n",
       "      <th>Passenger_Count</th>\n",
       "      <td>1000.0</td>\n",
       "      <td>2.477000</td>\n",
       "      <td>1.103036</td>\n",
       "      <td>1.0000</td>\n",
       "      <td>1.000000</td>\n",
       "      <td>2.0000</td>\n",
       "      <td>3.000000</td>\n",
       "      <td>4.000000</td>\n",
       "    </tr>\n",
       "    <tr>\n",
       "      <th>Base_Fare</th>\n",
       "      <td>1000.0</td>\n",
       "      <td>3.499346</td>\n",
       "      <td>0.868185</td>\n",
       "      <td>2.0100</td>\n",
       "      <td>2.730000</td>\n",
       "      <td>3.5100</td>\n",
       "      <td>4.232500</td>\n",
       "      <td>5.000000</td>\n",
       "    </tr>\n",
       "    <tr>\n",
       "      <th>Per_Km_Rate</th>\n",
       "      <td>1000.0</td>\n",
       "      <td>1.231261</td>\n",
       "      <td>0.429308</td>\n",
       "      <td>0.5000</td>\n",
       "      <td>0.860000</td>\n",
       "      <td>1.2200</td>\n",
       "      <td>1.610000</td>\n",
       "      <td>2.000000</td>\n",
       "    </tr>\n",
       "    <tr>\n",
       "      <th>Per_Minute_Rate</th>\n",
       "      <td>1000.0</td>\n",
       "      <td>0.294910</td>\n",
       "      <td>0.124089</td>\n",
       "      <td>0.1000</td>\n",
       "      <td>0.190000</td>\n",
       "      <td>0.2900</td>\n",
       "      <td>0.390000</td>\n",
       "      <td>1.732901</td>\n",
       "    </tr>\n",
       "    <tr>\n",
       "      <th>Trip_Duration_Minutes</th>\n",
       "      <td>1000.0</td>\n",
       "      <td>62.142949</td>\n",
       "      <td>31.946019</td>\n",
       "      <td>5.0100</td>\n",
       "      <td>36.010000</td>\n",
       "      <td>62.0600</td>\n",
       "      <td>88.480000</td>\n",
       "      <td>119.840000</td>\n",
       "    </tr>\n",
       "    <tr>\n",
       "      <th>Trip_Price</th>\n",
       "      <td>1000.0</td>\n",
       "      <td>56.633599</td>\n",
       "      <td>39.777640</td>\n",
       "      <td>6.1269</td>\n",
       "      <td>33.820425</td>\n",
       "      <td>50.0962</td>\n",
       "      <td>69.052125</td>\n",
       "      <td>332.043689</td>\n",
       "    </tr>\n",
       "  </tbody>\n",
       "</table>\n",
       "</div>"
      ],
      "text/plain": [
       "                        count       mean        std     min        25%  \\\n",
       "Trip_Distance_km       1000.0  26.999056  19.646154  1.2300  12.662500   \n",
       "Passenger_Count        1000.0   2.477000   1.103036  1.0000   1.000000   \n",
       "Base_Fare              1000.0   3.499346   0.868185  2.0100   2.730000   \n",
       "Per_Km_Rate            1000.0   1.231261   0.429308  0.5000   0.860000   \n",
       "Per_Minute_Rate        1000.0   0.294910   0.124089  0.1000   0.190000   \n",
       "Trip_Duration_Minutes  1000.0  62.142949  31.946019  5.0100  36.010000   \n",
       "Trip_Price             1000.0  56.633599  39.777640  6.1269  33.820425   \n",
       "\n",
       "                           50%        75%         max  \n",
       "Trip_Distance_km       25.8300  38.330000  146.067047  \n",
       "Passenger_Count         2.0000   3.000000    4.000000  \n",
       "Base_Fare               3.5100   4.232500    5.000000  \n",
       "Per_Km_Rate             1.2200   1.610000    2.000000  \n",
       "Per_Minute_Rate         0.2900   0.390000    1.732901  \n",
       "Trip_Duration_Minutes  62.0600  88.480000  119.840000  \n",
       "Trip_Price             50.0962  69.052125  332.043689  "
      ]
     },
     "execution_count": 652,
     "metadata": {},
     "output_type": "execute_result"
    }
   ],
   "source": [
    "df.describe().T"
   ]
  },
  {
   "cell_type": "code",
   "execution_count": 653,
   "id": "88ed39f0",
   "metadata": {},
   "outputs": [
    {
     "name": "stdout",
     "output_type": "stream",
     "text": [
      "<class 'pandas.core.frame.DataFrame'>\n",
      "RangeIndex: 1000 entries, 0 to 999\n",
      "Data columns (total 15 columns):\n",
      " #   Column                     Non-Null Count  Dtype  \n",
      "---  ------                     --------------  -----  \n",
      " 0   Trip_Distance_km           1000 non-null   float64\n",
      " 1   Passenger_Count            1000 non-null   float64\n",
      " 2   Base_Fare                  1000 non-null   float64\n",
      " 3   Per_Km_Rate                1000 non-null   float64\n",
      " 4   Per_Minute_Rate            1000 non-null   float64\n",
      " 5   Trip_Duration_Minutes      1000 non-null   float64\n",
      " 6   Trip_Price                 1000 non-null   float64\n",
      " 7   Time_of_Day_Evening        1000 non-null   bool   \n",
      " 8   Time_of_Day_Morning        1000 non-null   bool   \n",
      " 9   Time_of_Day_Night          1000 non-null   bool   \n",
      " 10  Day_of_Week_Weekend        1000 non-null   bool   \n",
      " 11  Traffic_Conditions_Low     1000 non-null   bool   \n",
      " 12  Traffic_Conditions_Medium  1000 non-null   bool   \n",
      " 13  Weather_Rain               1000 non-null   bool   \n",
      " 14  Weather_Snow               1000 non-null   bool   \n",
      "dtypes: bool(8), float64(7)\n",
      "memory usage: 62.6 KB\n"
     ]
    }
   ],
   "source": [
    "df.info()"
   ]
  },
  {
   "cell_type": "code",
   "execution_count": 654,
   "id": "3156f889",
   "metadata": {},
   "outputs": [],
   "source": [
    "df_narrow = df.copy()"
   ]
  },
  {
   "cell_type": "code",
   "execution_count": 655,
   "id": "208843ee",
   "metadata": {},
   "outputs": [],
   "source": [
    "def remove_outlieers(df: pd.DataFrame, column_name: str, show_output: bool = True):\n",
    "\n",
    "    Q1 = df[column_name].quantile(0.25)\n",
    "    Q3 = df[column_name].quantile(0.75)\n",
    "\n",
    "    IQR = Q3 - Q1\n",
    "\n",
    "    lower_bound = Q1 - 1.5 * IQR\n",
    "    upper_bound = Q3 + 1.5 * IQR\n",
    "\n",
    "    if show_output:\n",
    "        print(f\"For {column_name}:\")\n",
    "        print(f\"Q1: {Q1:.2f}\")\n",
    "        print(f\"Q3: {Q3:.2f}\")\n",
    "        print(f\"IQR: {IQR:.2f}\")\n",
    "        print(f\"(Lower Bound): {lower_bound:.2f}\")\n",
    "        print(f\"(Upper Bound): {upper_bound:.2f}\")\n",
    "    \n",
    "    print(f\"Number of rows before removal: {df.shape[0]}\")\n",
    "\n",
    "    df_narrow = df[(df[column_name] >= lower_bound) & (df[column_name] <= upper_bound)]\n",
    "\n",
    "    print(f\"Number of rows after outlieer removal: {df_narrow.shape[0]}\")\n",
    "\n",
    "    return df_narrow"
   ]
  },
  {
   "cell_type": "code",
   "execution_count": 656,
   "id": "c188305e",
   "metadata": {},
   "outputs": [
    {
     "name": "stdout",
     "output_type": "stream",
     "text": [
      "For Trip_Distance_km:\n",
      "Q1: 12.66\n",
      "Q3: 38.33\n",
      "IQR: 25.67\n",
      "(Lower Bound): -25.84\n",
      "(Upper Bound): 76.83\n",
      "Number of rows before removal: 1000\n",
      "Number of rows after outlieer removal: 980\n",
      "\n",
      "\n",
      "For Trip_Price:\n",
      "Q1: 33.43\n",
      "Q3: 67.23\n",
      "IQR: 33.80\n",
      "(Lower Bound): -17.28\n",
      "(Upper Bound): 117.94\n",
      "Number of rows before removal: 980\n",
      "Number of rows after outlieer removal: 973\n"
     ]
    }
   ],
   "source": [
    "df_narrow = remove_outlieers(df_narrow, \"Trip_Distance_km\")\n",
    "print(\"\\n\")\n",
    "df_narrow = remove_outlieers(df_narrow, \"Trip_Price\")"
   ]
  },
  {
   "cell_type": "markdown",
   "id": "17196417",
   "metadata": {},
   "source": [
    "### Train new RF model on narrow less data with removed Outlieers"
   ]
  },
  {
   "cell_type": "code",
   "execution_count": 657,
   "id": "67226cf5",
   "metadata": {},
   "outputs": [
    {
     "data": {
      "text/plain": [
       "(778, 8)"
      ]
     },
     "metadata": {},
     "output_type": "display_data"
    },
    {
     "data": {
      "text/plain": [
       "(195, 8)"
      ]
     },
     "metadata": {},
     "output_type": "display_data"
    },
    {
     "data": {
      "text/plain": [
       "(778,)"
      ]
     },
     "metadata": {},
     "output_type": "display_data"
    },
    {
     "data": {
      "text/plain": [
       "(195,)"
      ]
     },
     "metadata": {},
     "output_type": "display_data"
    }
   ],
   "source": [
    "X,y = df_narrow.drop(columns=[\n",
    "    \"Trip_Price\", \"Base_Fare\", \"Per_Km_Rate\",\"Per_Km_Rate\",\"Trip_Duration_Minutes\", \"Traffic_Conditions_Low\", \"Traffic_Conditions_Medium\", \"Per_Minute_Rate\", \n",
    "    ]), df_narrow[\"Trip_Price\"]\n",
    "\n",
    "X_train, X_test, y_train, y_test = train_test_split(X, y, test_size=0.2, random_state=42)\n",
    "\n",
    "display(X_train.shape, X_test.shape, y_train.shape, y_test.shape)"
   ]
  },
  {
   "cell_type": "code",
   "execution_count": 658,
   "id": "50c13e82",
   "metadata": {},
   "outputs": [
    {
     "name": "stdout",
     "output_type": "stream",
     "text": [
      "Random forrest regression performance:\n",
      "Mean Absolute Error (MAE): 13.90\n",
      "Mean Squared Error (MSE): 310.43\n",
      "R-squared (R2): 0.35\n"
     ]
    }
   ],
   "source": [
    "narrow_rf_model = RandomForestRegressor(random_state=42)\n",
    "\n",
    "narrow_rf_model.fit(X_train, y_train)\n",
    "\n",
    "rf_y_pred = narrow_rf_model.predict(X_test)\n",
    "\n",
    "mae_rf = mean_absolute_error(y_true=y_test, y_pred=rf_y_pred)\n",
    "mse_rf = mean_squared_error(y_true=y_test, y_pred=rf_y_pred)\n",
    "r2_rf = r2_score(y_true=y_test, y_pred=rf_y_pred)\n",
    "\n",
    "print(\"Random forrest regression performance:\")\n",
    "print(f\"Mean Absolute Error (MAE): {mae_rf:.2f}\")\n",
    "print(f\"Mean Squared Error (MSE): {mse_rf:.2f}\")\n",
    "print(f\"R-squared (R2): {r2_rf:.2f}\")"
   ]
  }
 ],
 "metadata": {
  "kernelspec": {
   "display_name": ".venv",
   "language": "python",
   "name": "python3"
  },
  "language_info": {
   "codemirror_mode": {
    "name": "ipython",
    "version": 3
   },
   "file_extension": ".py",
   "mimetype": "text/x-python",
   "name": "python",
   "nbconvert_exporter": "python",
   "pygments_lexer": "ipython3",
   "version": "3.11.5"
  }
 },
 "nbformat": 4,
 "nbformat_minor": 5
}
