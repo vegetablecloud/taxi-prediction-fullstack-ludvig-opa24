{
 "cells": [
  {
   "cell_type": "markdown",
   "id": "5fe7f287",
   "metadata": {},
   "source": [
    "# **This notebook is for doing imputations on the DataFrames null values.** "
   ]
  },
  {
   "cell_type": "markdown",
   "id": "e3e99959",
   "metadata": {},
   "source": [
    "#### We are going to USE ML to fill the dataframes missing NAN values. We are beggining with The values that have the least NAN values and build up the prediction strength from ground up."
   ]
  },
  {
   "cell_type": "code",
   "execution_count": 146,
   "id": "2a6fd60f",
   "metadata": {},
   "outputs": [],
   "source": [
    "import pandas as pd\n",
    "import numpy as np"
   ]
  },
  {
   "cell_type": "markdown",
   "id": "933bb8de",
   "metadata": {},
   "source": [
    "### Read in the repaird taxi trip csv:"
   ]
  },
  {
   "cell_type": "code",
   "execution_count": 147,
   "id": "241eb732",
   "metadata": {},
   "outputs": [],
   "source": [
    "df = pd.read_csv(\"../../data/taxi_trip_pricing_numeric_repaired.csv\")"
   ]
  },
  {
   "cell_type": "markdown",
   "id": "c55698b7",
   "metadata": {},
   "source": [
    "### Perform one hot encoding on categorical columns"
   ]
  },
  {
   "cell_type": "code",
   "execution_count": 148,
   "id": "922db4a0",
   "metadata": {},
   "outputs": [],
   "source": [
    "df = pd.get_dummies(df, columns=[\"Time_of_Day\", \"Day_of_Week\", \"Traffic_Conditions\", \"Weather\"], drop_first=True)"
   ]
  },
  {
   "cell_type": "code",
   "execution_count": 149,
   "id": "38d28531",
   "metadata": {},
   "outputs": [
    {
     "data": {
      "text/plain": [
       "Trip_Distance_km              6\n",
       "Passenger_Count              50\n",
       "Base_Fare                    12\n",
       "Per_Km_Rate                  11\n",
       "Per_Minute_Rate               5\n",
       "Trip_Duration_Minutes        15\n",
       "Trip_Price                   17\n",
       "Time_of_Day_Evening           0\n",
       "Time_of_Day_Morning           0\n",
       "Time_of_Day_Night             0\n",
       "Day_of_Week_Weekend           0\n",
       "Traffic_Conditions_Low        0\n",
       "Traffic_Conditions_Medium     0\n",
       "Weather_Rain                  0\n",
       "Weather_Snow                  0\n",
       "dtype: int64"
      ]
     },
     "execution_count": 149,
     "metadata": {},
     "output_type": "execute_result"
    }
   ],
   "source": [
    "df.isna().sum()"
   ]
  },
  {
   "cell_type": "code",
   "execution_count": 150,
   "id": "0e0322fb",
   "metadata": {},
   "outputs": [
    {
     "data": {
      "text/plain": [
       "['Per_Minute_Rate',\n",
       " 'Trip_Distance_km',\n",
       " 'Per_Km_Rate',\n",
       " 'Base_Fare',\n",
       " 'Trip_Duration_Minutes',\n",
       " 'Trip_Price',\n",
       " 'Passenger_Count']"
      ]
     },
     "execution_count": 150,
     "metadata": {},
     "output_type": "execute_result"
    }
   ],
   "source": [
    "# Store the column names that contain NaN values\n",
    "columns_with_nan = (\n",
    "    df.isna().sum()\n",
    "    .sort_values(ascending=True)   \n",
    "    .loc[lambda x: x > 0]          \n",
    "    .index\n",
    "    .tolist()\n",
    ")\n",
    "columns_with_nan\n"
   ]
  },
  {
   "cell_type": "markdown",
   "id": "e8a28743",
   "metadata": {},
   "source": [
    "#### MANAGE all columns with a function. The function will test the best model to predict its nan values."
   ]
  },
  {
   "cell_type": "code",
   "execution_count": 151,
   "id": "32dca110",
   "metadata": {},
   "outputs": [],
   "source": [
    "from sklearn.model_selection import train_test_split\n",
    "from sklearn.preprocessing import MinMaxScaler\n",
    "from sklearn.linear_model import LinearRegression\n",
    "from sklearn.metrics import mean_squared_error, r2_score, mean_absolute_error\n",
    "from sklearn.ensemble import RandomForestRegressor\n",
    "\n",
    "\n",
    "# We will move everythin to a function instead:\n",
    "\n",
    "def remove_nan_values_and_evaluate_model(column_name: str, show_output: bool = True):\n",
    "    \"\"\"\n",
    "    This function takes a column name as input and removes the rows with NaN values in that column from the dataframe.\n",
    "    It returns two dataframes: one with the rows with NaN values and one without.\n",
    "    \"\"\"\n",
    "    nan_rows = df[df[column_name].isna()] # We will use these rows later to predict the missing values\n",
    "    df_ml = df[df[column_name].notna()]\n",
    "\n",
    "    # Remove nan values from df_ml\n",
    "    df_ml = df_ml.dropna()\n",
    "\n",
    "    # Train test split\n",
    "    X,y = df_ml.drop(columns=[column_name]), df_ml[column_name]\n",
    "    X_train, X_test, y_train, y_test = train_test_split(X, y, test_size=0.2, random_state=42)\n",
    "\n",
    "    scaler = MinMaxScaler()\n",
    "\n",
    "    # Train and evaluate X,y on Linnear Regression \n",
    "    X_train_scaled = scaler.fit_transform(X_train)\n",
    "    X_test_scaled = scaler.transform(X_test)\n",
    "    \n",
    "    ln_model = LinearRegression()\n",
    "    ln_model.fit(X_train_scaled, y_train)\n",
    "    y_pred = ln_model.predict(X_test_scaled)\n",
    "\n",
    "    mse = mean_squared_error(y_test, y_pred)\n",
    "    rmse = np.sqrt(mse)\n",
    "    r2 = r2_score(y_test, y_pred)\n",
    "    mae = mean_absolute_error(y_test, y_pred)\n",
    "    if show_output:\n",
    "        print(f\"Linear Regression - Mean Squared Error: {mse:.2f}\")\n",
    "        print(f\"Linear Regression - Root Mean Squared Error: {rmse:.2f}\")\n",
    "        print(f\"Linear Regression - R^2 Score: {r2:.2f}\")\n",
    "        print(f\"Linear Regression - Mean Absolute Error: {mae:.2f}\")\n",
    "        print(\"\\n\")\n",
    "        print(\"--------------------------------------------------\")\n",
    "    # Train and evaluate X,y on Random Forest Regressor\n",
    "    rf_model = RandomForestRegressor(n_estimators=100, random_state=42)\n",
    "    rf_model.fit(X_train, y_train)\n",
    "    y_pred_rf = rf_model.predict(X_test)\n",
    "\n",
    "    mse_rf = mean_squared_error(y_test, y_pred_rf)\n",
    "    rmse_rf = np.sqrt(mse_rf)\n",
    "    r2_rf = r2_score(y_test, y_pred_rf)\n",
    "    mae_rf = mean_absolute_error(y_test, y_pred_rf)\n",
    "    if show_output:\n",
    "        print(f\"Random Forest - Mean Squared Error: {mse_rf:.2f}\")\n",
    "        print(f\"Random Forest - Root Mean Squared Error: {rmse_rf:.2f}\")\n",
    "        print(f\"Random Forest - R^2 Score: {r2_rf:.2f}\")\n",
    "        print(f\"Random Forest - Mean Absolute Error: {mae_rf:.2f}\")\n",
    "        print(\"\\n\")\n",
    "        print(\"--------------------------------------------------\")\n",
    "    # Choose the best model based on R^2 score\n",
    "    model_winner = None\n",
    "    if r2_rf > r2:\n",
    "        model_winner = rf_model\n",
    "        print(\"Random Forest Regressor is the best model.\")\n",
    "    else:\n",
    "        model_winner = ln_model\n",
    "        print(\"Linear Regression is the best model.\")\n",
    "\n",
    "    return nan_rows, df_ml, model_winner\n"
   ]
  },
  {
   "cell_type": "markdown",
   "id": "cb89596d",
   "metadata": {},
   "source": [
    "### Loop through all cols in ascending order from least nan values to greatest for best imputations."
   ]
  },
  {
   "cell_type": "code",
   "execution_count": 152,
   "id": "79b5315f",
   "metadata": {},
   "outputs": [
    {
     "name": "stdout",
     "output_type": "stream",
     "text": [
      "Evaluating models after removing NaN values in column: Per_Minute_Rate\n",
      "Random Forest Regressor is the best model.\n",
      "Predicted values for missing Per_Minute_Rate: [0.64379629 0.3818     0.3346     0.2351     0.302     ]\n",
      "Evaluating models after removing NaN values in column: Trip_Distance_km\n"
     ]
    },
    {
     "name": "stderr",
     "output_type": "stream",
     "text": [
      "C:\\Users\\Ludvi\\AppData\\Local\\Temp\\ipykernel_24756\\2141774450.py:10: SettingWithCopyWarning: \n",
      "A value is trying to be set on a copy of a slice from a DataFrame.\n",
      "Try using .loc[row_indexer,col_indexer] = value instead\n",
      "\n",
      "See the caveats in the documentation: https://pandas.pydata.org/pandas-docs/stable/user_guide/indexing.html#returning-a-view-versus-a-copy\n",
      "  nan_rows[column] = predicted_values\n"
     ]
    },
    {
     "name": "stdout",
     "output_type": "stream",
     "text": [
      "Random Forest Regressor is the best model.\n",
      "Predicted values for missing Trip_Distance_km: [42.4518  6.1342 21.4368  7.6969 42.7079 29.7991]\n",
      "Evaluating models after removing NaN values in column: Per_Km_Rate\n"
     ]
    },
    {
     "name": "stderr",
     "output_type": "stream",
     "text": [
      "C:\\Users\\Ludvi\\AppData\\Local\\Temp\\ipykernel_24756\\2141774450.py:10: SettingWithCopyWarning: \n",
      "A value is trying to be set on a copy of a slice from a DataFrame.\n",
      "Try using .loc[row_indexer,col_indexer] = value instead\n",
      "\n",
      "See the caveats in the documentation: https://pandas.pydata.org/pandas-docs/stable/user_guide/indexing.html#returning-a-view-versus-a-copy\n",
      "  nan_rows[column] = predicted_values\n"
     ]
    },
    {
     "name": "stdout",
     "output_type": "stream",
     "text": [
      "Random Forest Regressor is the best model.\n",
      "Predicted values for missing Per_Km_Rate: [0.6479     1.6729     0.9724     1.32234617 0.9303     1.2786\n",
      " 1.3028     0.7434     1.6496     0.8845     1.7692    ]\n",
      "Evaluating models after removing NaN values in column: Base_Fare\n"
     ]
    },
    {
     "name": "stderr",
     "output_type": "stream",
     "text": [
      "C:\\Users\\Ludvi\\AppData\\Local\\Temp\\ipykernel_24756\\2141774450.py:10: SettingWithCopyWarning: \n",
      "A value is trying to be set on a copy of a slice from a DataFrame.\n",
      "Try using .loc[row_indexer,col_indexer] = value instead\n",
      "\n",
      "See the caveats in the documentation: https://pandas.pydata.org/pandas-docs/stable/user_guide/indexing.html#returning-a-view-versus-a-copy\n",
      "  nan_rows[column] = predicted_values\n"
     ]
    },
    {
     "name": "stdout",
     "output_type": "stream",
     "text": [
      "Random Forest Regressor is the best model.\n",
      "Predicted values for missing Base_Fare: [3.5096 3.9683 3.5614 3.5159 3.1606 3.3182 3.5021 3.3197 4.0192 3.6092\n",
      " 3.5524 3.4896]\n",
      "Evaluating models after removing NaN values in column: Trip_Duration_Minutes\n"
     ]
    },
    {
     "name": "stderr",
     "output_type": "stream",
     "text": [
      "C:\\Users\\Ludvi\\AppData\\Local\\Temp\\ipykernel_24756\\2141774450.py:10: SettingWithCopyWarning: \n",
      "A value is trying to be set on a copy of a slice from a DataFrame.\n",
      "Try using .loc[row_indexer,col_indexer] = value instead\n",
      "\n",
      "See the caveats in the documentation: https://pandas.pydata.org/pandas-docs/stable/user_guide/indexing.html#returning-a-view-versus-a-copy\n",
      "  nan_rows[column] = predicted_values\n"
     ]
    },
    {
     "name": "stdout",
     "output_type": "stream",
     "text": [
      "Random Forest Regressor is the best model.\n",
      "Predicted values for missing Trip_Duration_Minutes: [ 21.2082  73.6751  90.6529  99.485   62.6265  63.7791  49.3154  63.985\n",
      "  86.0036  61.5466  40.0069  63.0559 100.1809  55.6358  96.1719]\n",
      "Evaluating models after removing NaN values in column: Trip_Price\n"
     ]
    },
    {
     "name": "stderr",
     "output_type": "stream",
     "text": [
      "C:\\Users\\Ludvi\\AppData\\Local\\Temp\\ipykernel_24756\\2141774450.py:10: SettingWithCopyWarning: \n",
      "A value is trying to be set on a copy of a slice from a DataFrame.\n",
      "Try using .loc[row_indexer,col_indexer] = value instead\n",
      "\n",
      "See the caveats in the documentation: https://pandas.pydata.org/pandas-docs/stable/user_guide/indexing.html#returning-a-view-versus-a-copy\n",
      "  nan_rows[column] = predicted_values\n"
     ]
    },
    {
     "name": "stdout",
     "output_type": "stream",
     "text": [
      "Random Forest Regressor is the best model.\n",
      "Predicted values for missing Trip_Price: [47.070264 68.531781 27.862327 51.99042  37.294758 71.288691 48.343912\n",
      " 40.157827 51.667804 50.690136 55.391044 66.808003 21.647542 44.7242\n",
      " 32.883705 35.525655 49.548262]\n",
      "Evaluating models after removing NaN values in column: Passenger_Count\n"
     ]
    },
    {
     "name": "stderr",
     "output_type": "stream",
     "text": [
      "C:\\Users\\Ludvi\\AppData\\Local\\Temp\\ipykernel_24756\\2141774450.py:10: SettingWithCopyWarning: \n",
      "A value is trying to be set on a copy of a slice from a DataFrame.\n",
      "Try using .loc[row_indexer,col_indexer] = value instead\n",
      "\n",
      "See the caveats in the documentation: https://pandas.pydata.org/pandas-docs/stable/user_guide/indexing.html#returning-a-view-versus-a-copy\n",
      "  nan_rows[column] = predicted_values\n"
     ]
    },
    {
     "name": "stdout",
     "output_type": "stream",
     "text": [
      "Linear Regression is the best model.\n",
      "Predicted values for missing Passenger_Count: [11.78394126 -3.31729972 12.00816035  1.75088157 10.65582058 18.69084763\n",
      "  3.53923319 18.05833162 19.02613313 -5.74312702 26.02125989 -7.98630336\n",
      " 31.64925081 -4.71878541 13.95578531 10.38283726 17.37904706  8.45890165\n",
      " 10.33347193 19.16154542  8.42359912 19.00521702 16.43784593 12.94822544\n",
      " 14.2458445   6.99871322 17.77928753  9.04466503 33.59823463  9.84663492\n",
      " 20.21899523  7.95480414 13.71289799 13.79019527 19.36047216 17.48072031\n",
      " 25.92093333 11.53462095  7.04954361 20.77214381 -8.00404098 26.47973409\n",
      "  3.1023654  13.36835367  7.12911652 -7.6635459   9.63059509 25.60953738\n",
      " -7.70646305 30.71956094]\n"
     ]
    },
    {
     "name": "stderr",
     "output_type": "stream",
     "text": [
      "c:\\NBIHandelsAkademin\\Python_Course\\taxi-prediction-fullstack-ludvig-opa24\\.venv\\Lib\\site-packages\\sklearn\\utils\\validation.py:2742: UserWarning: X has feature names, but LinearRegression was fitted without feature names\n",
      "  warnings.warn(\n",
      "C:\\Users\\Ludvi\\AppData\\Local\\Temp\\ipykernel_24756\\2141774450.py:10: SettingWithCopyWarning: \n",
      "A value is trying to be set on a copy of a slice from a DataFrame.\n",
      "Try using .loc[row_indexer,col_indexer] = value instead\n",
      "\n",
      "See the caveats in the documentation: https://pandas.pydata.org/pandas-docs/stable/user_guide/indexing.html#returning-a-view-versus-a-copy\n",
      "  nan_rows[column] = predicted_values\n"
     ]
    },
    {
     "data": {
      "text/plain": [
       "Trip_Distance_km             0\n",
       "Passenger_Count              0\n",
       "Base_Fare                    0\n",
       "Per_Km_Rate                  0\n",
       "Per_Minute_Rate              0\n",
       "Trip_Duration_Minutes        0\n",
       "Trip_Price                   0\n",
       "Time_of_Day_Evening          0\n",
       "Time_of_Day_Morning          0\n",
       "Time_of_Day_Night            0\n",
       "Day_of_Week_Weekend          0\n",
       "Traffic_Conditions_Low       0\n",
       "Traffic_Conditions_Medium    0\n",
       "Weather_Rain                 0\n",
       "Weather_Snow                 0\n",
       "dtype: int64"
      ]
     },
     "execution_count": 152,
     "metadata": {},
     "output_type": "execute_result"
    }
   ],
   "source": [
    "# Now we can loop through the columns with NaN values and evaluate the models\n",
    "for column in columns_with_nan:\n",
    "    print(f\"Evaluating models after removing NaN values in column: {column}\")\n",
    "    nan_rows, df_ml, best_model = remove_nan_values_and_evaluate_model(column, show_output=False) # IF you want to see the output from the model evaluation, set show_output=True\n",
    "\n",
    "    X,y = nan_rows.drop(columns=[column]), nan_rows[column]\n",
    "    predicted_values = best_model.predict(X) \n",
    "    print(f\"Predicted values for missing {column}: {predicted_values}\")\n",
    "    # Now we can fill the NaN values in the original dataframe with the predicted values\n",
    "    nan_rows[column] = predicted_values\n",
    "    df.loc[nan_rows.index, column] = nan_rows[column]\n",
    "\n",
    "# Check if there are still any NaN values in the dataframe\n",
    "df.isna().sum()"
   ]
  }
 ],
 "metadata": {
  "kernelspec": {
   "display_name": ".venv",
   "language": "python",
   "name": "python3"
  },
  "language_info": {
   "codemirror_mode": {
    "name": "ipython",
    "version": 3
   },
   "file_extension": ".py",
   "mimetype": "text/x-python",
   "name": "python",
   "nbconvert_exporter": "python",
   "pygments_lexer": "ipython3",
   "version": "3.11.5"
  }
 },
 "nbformat": 4,
 "nbformat_minor": 5
}
